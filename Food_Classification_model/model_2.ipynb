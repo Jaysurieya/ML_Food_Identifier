{
 "cells": [
  {
   "cell_type": "code",
   "execution_count": 47,
   "id": "cf3f02df",
   "metadata": {},
   "outputs": [],
   "source": [
    "import tensorflow as tf\n",
    "import os\n",
    "import numpy as np\n",
    "import matplotlib.pyplot as plt\n",
    "import tkinter as tk\n",
    "from tkinter import filedialog\n",
    "from sklearn.utils.class_weight import compute_class_weight\n",
    "\n",
    "# --- Step 1: Configuration Constants ---\n",
    "IMAGE_SIZE = (224 , 224)\n",
    "BATCH_SIZE = 32\n",
    "\n",
    "def select_dataset_directory():\n",
    "    \"\"\"Opens a folder selection dialog and returns the selected path.\"\"\"\n",
    "    root = tk.Tk()\n",
    "    root.withdraw() \n",
    "    print(\"Opening a dialog box to choose your dataset folder...\")\n",
    "    directory_path = filedialog.askdirectory(\n",
    "        title=\"Please select your dataset folder (e.g., FINAL DATASET)\"\n",
    "    )\n",
    "    root.destroy()\n",
    "    return directory_path\n",
    "\n",
    "\n",
    " \n",
    "def create_data_generators(dataset_dir):\n",
    "    \"\"\"Creates and returns training and validation data generators with a 80/20 split.\"\"\"\n",
    "    datagen = tf.keras.preprocessing.image.ImageDataGenerator(\n",
    "        preprocessing_function=tf.keras.applications.efficientnet_v2.preprocess_input,\n",
    "        rotation_range=30,\n",
    "        width_shift_range=0.2,\n",
    "        height_shift_range=0.2,\n",
    "        shear_range=0.2,\n",
    "        zoom_range=0.2,\n",
    "        horizontal_flip=True,\n",
    "        fill_mode='nearest',\n",
    "        validation_split=0.2  # Reserve 20% of data for validation\n",
    "    )\n",
    "\n",
    "    train_generator = datagen.flow_from_directory(\n",
    "        directory=dataset_dir,\n",
    "        target_size=IMAGE_SIZE,\n",
    "        batch_size=BATCH_SIZE,\n",
    "        class_mode='categorical',\n",
    "        shuffle=True,\n",
    "        subset='training',\n",
    "        color_mode=\"rgb\"   # 👈 force 3-channel input\n",
    "    )\n",
    "\n",
    "    validation_generator = datagen.flow_from_directory(\n",
    "        directory=dataset_dir,\n",
    "        target_size=IMAGE_SIZE,\n",
    "        batch_size=BATCH_SIZE,\n",
    "        class_mode='categorical',\n",
    "        shuffle=False,\n",
    "        subset='validation',\n",
    "        color_mode=\"rgb\"   # 👈 same for validation\n",
    "    )\n",
    "\n",
    "    return train_generator, validation_generator\n",
    "\n",
    "# --- Step 4: Class Weight Calculation ---\n",
    "def calculate_class_weights(train_generator):\n",
    "    \"\"\"Calculates class weights to handle data imbalance.\"\"\"\n",
    "    class_labels = np.unique(train_generator.classes)\n",
    "    class_weights = compute_class_weight(\n",
    "        class_weight='balanced',\n",
    "        classes=class_labels,\n",
    "        y=train_generator.classes\n",
    "    )\n",
    "    class_weights_dict = dict(zip(class_labels, class_weights))\n",
    "    return class_weights_dict\n",
    "\n",
    "tf.keras.backend.clear_session() \n",
    "from tensorflow.keras.applications import EfficientNetV2B0\n",
    "\n",
    "def build_model(num_classes):\n",
    "    # Use EfficientNetV2B0 as the base\n",
    "    base_model = EfficientNetV2B0(\n",
    "        include_top=False,\n",
    "        weights='imagenet',\n",
    "        input_shape=IMAGE_SIZE + (3,)  # This will be (224, 224, 3)\n",
    "    )\n",
    "    base_model.trainable = False\n",
    "\n",
    "    # Use the same IMAGE_SIZE here to match the base model\n",
    "    inputs = tf.keras.Input(shape=IMAGE_SIZE + (3,))  # This will be (224, 224, 3)\n",
    "    x = base_model(inputs, training=False)\n",
    "    x = tf.keras.layers.GlobalAveragePooling2D()(x)\n",
    "    x = tf.keras.layers.Dropout(0.3)(x)\n",
    "    outputs = tf.keras.layers.Dense(num_classes, activation=\"softmax\")(x)\n",
    "\n",
    "    model = tf.keras.Model(inputs, outputs)\n",
    "    return model\n",
    "\n",
    "\n"
   ]
  },
  {
   "cell_type": "code",
   "execution_count": 48,
   "id": "c99fab64",
   "metadata": {},
   "outputs": [
    {
     "name": "stdout",
     "output_type": "stream",
     "text": [
      "Opening a dialog box to choose your dataset folder...\n",
      "\n",
      "✅ Dataset folder selected: C:/Users/Jay Surieya/Downloads/FINAL DATASET\n",
      "Found 47928 images belonging to 110 classes.\n",
      "Found 11975 images belonging to 110 classes.\n",
      "\n",
      "--- PHASE 1: Training the new classification head ---\n"
     ]
    },
    {
     "name": "stderr",
     "output_type": "stream",
     "text": [
      "c:\\Users\\Jay Surieya\\AppData\\Local\\Programs\\Python\\Python312\\Lib\\site-packages\\keras\\src\\trainers\\data_adapters\\py_dataset_adapter.py:121: UserWarning: Your `PyDataset` class should call `super().__init__(**kwargs)` in its constructor. `**kwargs` can include `workers`, `use_multiprocessing`, `max_queue_size`. Do not pass these arguments to `fit()`, as they will be ignored.\n",
      "  self._warn_if_super_not_called()\n"
     ]
    },
    {
     "name": "stdout",
     "output_type": "stream",
     "text": [
      "Epoch 1/10\n",
      "\u001b[1m1498/1498\u001b[0m \u001b[32m━━━━━━━━━━━━━━━━━━━━\u001b[0m\u001b[37m\u001b[0m \u001b[1m1703s\u001b[0m 1s/step - accuracy: 0.5101 - loss: 2.3728 - val_accuracy: 0.6367 - val_loss: 1.4648\n",
      "Epoch 2/10\n",
      "\u001b[1m1498/1498\u001b[0m \u001b[32m━━━━━━━━━━━━━━━━━━━━\u001b[0m\u001b[37m\u001b[0m \u001b[1m1599s\u001b[0m 1s/step - accuracy: 0.6158 - loss: 1.4565 - val_accuracy: 0.6704 - val_loss: 1.2885\n",
      "Epoch 3/10\n",
      "\u001b[1m1498/1498\u001b[0m \u001b[32m━━━━━━━━━━━━━━━━━━━━\u001b[0m\u001b[37m\u001b[0m \u001b[1m928s\u001b[0m 619ms/step - accuracy: 0.6406 - loss: 1.2768 - val_accuracy: 0.6788 - val_loss: 1.2253\n",
      "Epoch 4/10\n",
      "\u001b[1m1498/1498\u001b[0m \u001b[32m━━━━━━━━━━━━━━━━━━━━\u001b[0m\u001b[37m\u001b[0m \u001b[1m1047s\u001b[0m 662ms/step - accuracy: 0.6534 - loss: 1.1513 - val_accuracy: 0.6872 - val_loss: 1.1885\n",
      "Epoch 5/10\n",
      "\u001b[1m1498/1498\u001b[0m \u001b[32m━━━━━━━━━━━━━━━━━━━━\u001b[0m\u001b[37m\u001b[0m \u001b[1m1851s\u001b[0m 1s/step - accuracy: 0.6621 - loss: 1.0995 - val_accuracy: 0.6928 - val_loss: 1.1709\n",
      "Epoch 6/10\n",
      "\u001b[1m1498/1498\u001b[0m \u001b[32m━━━━━━━━━━━━━━━━━━━━\u001b[0m\u001b[37m\u001b[0m \u001b[1m1170s\u001b[0m 781ms/step - accuracy: 0.6697 - loss: 1.0442 - val_accuracy: 0.6914 - val_loss: 1.1438\n",
      "Epoch 7/10\n",
      "\u001b[1m1498/1498\u001b[0m \u001b[32m━━━━━━━━━━━━━━━━━━━━\u001b[0m\u001b[37m\u001b[0m \u001b[1m1067s\u001b[0m 712ms/step - accuracy: 0.6751 - loss: 0.9850 - val_accuracy: 0.7004 - val_loss: 1.1219\n",
      "Epoch 8/10\n",
      "\u001b[1m1498/1498\u001b[0m \u001b[32m━━━━━━━━━━━━━━━━━━━━\u001b[0m\u001b[37m\u001b[0m \u001b[1m1034s\u001b[0m 690ms/step - accuracy: 0.6783 - loss: 0.9583 - val_accuracy: 0.7047 - val_loss: 1.1146\n",
      "Epoch 9/10\n",
      "\u001b[1m1498/1498\u001b[0m \u001b[32m━━━━━━━━━━━━━━━━━━━━\u001b[0m\u001b[37m\u001b[0m \u001b[1m761s\u001b[0m 508ms/step - accuracy: 0.6784 - loss: 0.9524 - val_accuracy: 0.7052 - val_loss: 1.1045\n",
      "Epoch 10/10\n",
      "\u001b[1m1498/1498\u001b[0m \u001b[32m━━━━━━━━━━━━━━━━━━━━\u001b[0m\u001b[37m\u001b[0m \u001b[1m751s\u001b[0m 501ms/step - accuracy: 0.6789 - loss: 0.9422 - val_accuracy: 0.7076 - val_loss: 1.0959\n",
      "\n",
      "--- PHASE 2: Fine-tuning the top layers of the base model ---\n",
      "Epoch 10/20\n",
      "\u001b[1m1498/1498\u001b[0m \u001b[32m━━━━━━━━━━━━━━━━━━━━\u001b[0m\u001b[37m\u001b[0m \u001b[1m842s\u001b[0m 556ms/step - accuracy: 0.6007 - loss: 1.1484 - val_accuracy: 0.6619 - val_loss: 1.3058\n",
      "Epoch 11/20\n",
      "\u001b[1m1498/1498\u001b[0m \u001b[32m━━━━━━━━━━━━━━━━━━━━\u001b[0m\u001b[37m\u001b[0m \u001b[1m823s\u001b[0m 549ms/step - accuracy: 0.6475 - loss: 1.0109 - val_accuracy: 0.6829 - val_loss: 1.2090\n",
      "Epoch 12/20\n",
      "\u001b[1m1498/1498\u001b[0m \u001b[32m━━━━━━━━━━━━━━━━━━━━\u001b[0m\u001b[37m\u001b[0m \u001b[1m772s\u001b[0m 515ms/step - accuracy: 0.6665 - loss: 0.9480 - val_accuracy: 0.6940 - val_loss: 1.1577\n",
      "Epoch 13/20\n",
      "\u001b[1m1498/1498\u001b[0m \u001b[32m━━━━━━━━━━━━━━━━━━━━\u001b[0m\u001b[37m\u001b[0m \u001b[1m811s\u001b[0m 541ms/step - accuracy: 0.6800 - loss: 0.8999 - val_accuracy: 0.7051 - val_loss: 1.1164\n",
      "Epoch 14/20\n",
      "\u001b[1m1498/1498\u001b[0m \u001b[32m━━━━━━━━━━━━━━━━━━━━\u001b[0m\u001b[37m\u001b[0m \u001b[1m995s\u001b[0m 664ms/step - accuracy: 0.6861 - loss: 0.8808 - val_accuracy: 0.7167 - val_loss: 1.0795\n",
      "Epoch 15/20\n",
      "\u001b[1m1498/1498\u001b[0m \u001b[32m━━━━━━━━━━━━━━━━━━━━\u001b[0m\u001b[37m\u001b[0m \u001b[1m843s\u001b[0m 562ms/step - accuracy: 0.6886 - loss: 0.8564 - val_accuracy: 0.7151 - val_loss: 1.0747\n",
      "Epoch 16/20\n",
      "\u001b[1m1498/1498\u001b[0m \u001b[32m━━━━━━━━━━━━━━━━━━━━\u001b[0m\u001b[37m\u001b[0m \u001b[1m1139s\u001b[0m 760ms/step - accuracy: 0.6960 - loss: 0.8348 - val_accuracy: 0.7179 - val_loss: 1.0592\n",
      "Epoch 17/20\n",
      "\u001b[1m1498/1498\u001b[0m \u001b[32m━━━━━━━━━━━━━━━━━━━━\u001b[0m\u001b[37m\u001b[0m \u001b[1m1440s\u001b[0m 961ms/step - accuracy: 0.7028 - loss: 0.8224 - val_accuracy: 0.7187 - val_loss: 1.0574\n",
      "Epoch 18/20\n",
      "\u001b[1m1498/1498\u001b[0m \u001b[32m━━━━━━━━━━━━━━━━━━━━\u001b[0m\u001b[37m\u001b[0m \u001b[1m868s\u001b[0m 579ms/step - accuracy: 0.7065 - loss: 0.7993 - val_accuracy: 0.7204 - val_loss: 1.0369\n",
      "Epoch 19/20\n",
      "\u001b[1m1498/1498\u001b[0m \u001b[32m━━━━━━━━━━━━━━━━━━━━\u001b[0m\u001b[37m\u001b[0m \u001b[1m831s\u001b[0m 555ms/step - accuracy: 0.7074 - loss: 0.7972 - val_accuracy: 0.7282 - val_loss: 1.0295\n",
      "Epoch 20/20\n",
      "\u001b[1m1498/1498\u001b[0m \u001b[32m━━━━━━━━━━━━━━━━━━━━\u001b[0m\u001b[37m\u001b[0m \u001b[1m892s\u001b[0m 596ms/step - accuracy: 0.7091 - loss: 0.7783 - val_accuracy: 0.7295 - val_loss: 1.0262\n",
      "\n",
      "🎉 Training complete! 🎉\n"
     ]
    }
   ],
   "source": [
    "# --- Step 6: Model Training Function ---\n",
    "def train_model(model, train_gen, val_gen, weights):\n",
    "    \"\"\"Compiles and trains the model in two phases: head training and fine-tuning.\"\"\"\n",
    "    \n",
    "    # === PHASE 1: TRAIN THE HEAD ===\n",
    "    print(\"\\n--- PHASE 1: Training the new classification head ---\")\n",
    "    model.compile(\n",
    "        optimizer=tf.keras.optimizers.Adam(learning_rate=1e-3),\n",
    "        loss='categorical_crossentropy',\n",
    "        metrics=['accuracy']\n",
    "    )\n",
    "    \n",
    "    initial_epochs = 10\n",
    "    history_initial = model.fit(\n",
    "        train_gen,\n",
    "        epochs=initial_epochs,\n",
    "        validation_data=val_gen,\n",
    "        class_weight=weights  # Apply class weights here!\n",
    "    )\n",
    "\n",
    "    # === PHASE 2: FINE-TUNE THE MODEL ===\n",
    "    print(\"\\n--- PHASE 2: Fine-tuning the top layers of the base model ---\")\n",
    "    # Unfreeze the base model.\n",
    "    model.layers[1].trainable = True\n",
    "    \n",
    "    # We'll only unfreeze the top 30 layers.\n",
    "    for layer in model.layers[1].layers[:-30]:\n",
    "        layer.trainable = False\n",
    "\n",
    "    # Re-compile the model with a very low learning rate\n",
    "    model.compile(\n",
    "        optimizer=tf.keras.optimizers.Adam(learning_rate=1e-5),\n",
    "        loss='categorical_crossentropy',\n",
    "        metrics=['accuracy']\n",
    "    )\n",
    "    \n",
    "    fine_tune_epochs = 10\n",
    "    total_epochs = initial_epochs + fine_tune_epochs\n",
    "    \n",
    "    history_fine_tune = model.fit(\n",
    "        train_gen,\n",
    "        epochs=total_epochs,\n",
    "        initial_epoch=history_initial.epoch[-1],\n",
    "        validation_data=val_gen,\n",
    "        class_weight=weights\n",
    "    )\n",
    "\n",
    "    return history_initial, history_fine_tune\n",
    "\n",
    "# --- Main Execution Block ---\n",
    "if __name__ == \"__main__\":\n",
    "    DATASET_DIR = select_dataset_directory()\n",
    "\n",
    "    if DATASET_DIR:\n",
    "        print(f\"\\n✅ Dataset folder selected: {DATASET_DIR}\")\n",
    "\n",
    "        # Steps 3 & 4\n",
    "        train_gen, val_gen = create_data_generators(DATASET_DIR)\n",
    "        num_classes = train_gen.num_classes\n",
    "        weights = calculate_class_weights(train_gen)\n",
    "        \n",
    "        # Step 5\n",
    "        model = build_model(num_classes=num_classes)\n",
    "        \n",
    "        # Step 6: Call the training function\n",
    "        history_initial, history_fine_tune = train_model(model, train_gen, val_gen, weights)\n",
    "\n",
    "        print(\"\\n🎉 Training complete! 🎉\")\n",
    "\n",
    "    else:\n",
    "        print(\"\\n❌ No folder was selected.\")"
   ]
  },
  {
   "cell_type": "code",
   "execution_count": 49,
   "id": "49315d0c",
   "metadata": {},
   "outputs": [
    {
     "name": "stdout",
     "output_type": "stream",
     "text": [
      "\n",
      "✅ Model saved successfully!\n",
      "The file 'food_classifier_final_model.keras' has been created in your project directory.\n"
     ]
    }
   ],
   "source": [
    "model.save(\"food_classifier_final_model.keras\")\n",
    "\n",
    "print(\"\\n✅ Model saved successfully!\")\n",
    "print(\"The file 'food_classifier_final_model.keras' has been created in your project directory.\")"
   ]
  },
  {
   "cell_type": "code",
   "execution_count": 50,
   "id": "744f41b3",
   "metadata": {},
   "outputs": [
    {
     "name": "stdout",
     "output_type": "stream",
     "text": [
      "Attempting to load model from: food_classifier_final_model.keras\n",
      "\n",
      "✅ Model loaded successfully! The file is not corrupted.\n",
      "Here is the model summary:\n"
     ]
    },
    {
     "data": {
      "text/html": [
       "<pre style=\"white-space:pre;overflow-x:auto;line-height:normal;font-family:Menlo,'DejaVu Sans Mono',consolas,'Courier New',monospace\"><span style=\"font-weight: bold\">Model: \"functional\"</span>\n",
       "</pre>\n"
      ],
      "text/plain": [
       "\u001b[1mModel: \"functional\"\u001b[0m\n"
      ]
     },
     "metadata": {},
     "output_type": "display_data"
    },
    {
     "data": {
      "text/html": [
       "<pre style=\"white-space:pre;overflow-x:auto;line-height:normal;font-family:Menlo,'DejaVu Sans Mono',consolas,'Courier New',monospace\">┏━━━━━━━━━━━━━━━━━━━━━━━━━━━━━━━━━┳━━━━━━━━━━━━━━━━━━━━━━━━┳━━━━━━━━━━━━━━━┓\n",
       "┃<span style=\"font-weight: bold\"> Layer (type)                    </span>┃<span style=\"font-weight: bold\"> Output Shape           </span>┃<span style=\"font-weight: bold\">       Param # </span>┃\n",
       "┡━━━━━━━━━━━━━━━━━━━━━━━━━━━━━━━━━╇━━━━━━━━━━━━━━━━━━━━━━━━╇━━━━━━━━━━━━━━━┩\n",
       "│ input_layer_1 (<span style=\"color: #0087ff; text-decoration-color: #0087ff\">InputLayer</span>)      │ (<span style=\"color: #00d7ff; text-decoration-color: #00d7ff\">None</span>, <span style=\"color: #00af00; text-decoration-color: #00af00\">224</span>, <span style=\"color: #00af00; text-decoration-color: #00af00\">224</span>, <span style=\"color: #00af00; text-decoration-color: #00af00\">3</span>)    │             <span style=\"color: #00af00; text-decoration-color: #00af00\">0</span> │\n",
       "├─────────────────────────────────┼────────────────────────┼───────────────┤\n",
       "│ efficientnetv2-b0 (<span style=\"color: #0087ff; text-decoration-color: #0087ff\">Functional</span>)  │ (<span style=\"color: #00d7ff; text-decoration-color: #00d7ff\">None</span>, <span style=\"color: #00af00; text-decoration-color: #00af00\">7</span>, <span style=\"color: #00af00; text-decoration-color: #00af00\">7</span>, <span style=\"color: #00af00; text-decoration-color: #00af00\">1280</span>)     │     <span style=\"color: #00af00; text-decoration-color: #00af00\">5,919,312</span> │\n",
       "├─────────────────────────────────┼────────────────────────┼───────────────┤\n",
       "│ global_average_pooling2d        │ (<span style=\"color: #00d7ff; text-decoration-color: #00d7ff\">None</span>, <span style=\"color: #00af00; text-decoration-color: #00af00\">1280</span>)           │             <span style=\"color: #00af00; text-decoration-color: #00af00\">0</span> │\n",
       "│ (<span style=\"color: #0087ff; text-decoration-color: #0087ff\">GlobalAveragePooling2D</span>)        │                        │               │\n",
       "├─────────────────────────────────┼────────────────────────┼───────────────┤\n",
       "│ dropout (<span style=\"color: #0087ff; text-decoration-color: #0087ff\">Dropout</span>)               │ (<span style=\"color: #00d7ff; text-decoration-color: #00d7ff\">None</span>, <span style=\"color: #00af00; text-decoration-color: #00af00\">1280</span>)           │             <span style=\"color: #00af00; text-decoration-color: #00af00\">0</span> │\n",
       "├─────────────────────────────────┼────────────────────────┼───────────────┤\n",
       "│ dense (<span style=\"color: #0087ff; text-decoration-color: #0087ff\">Dense</span>)                   │ (<span style=\"color: #00d7ff; text-decoration-color: #00d7ff\">None</span>, <span style=\"color: #00af00; text-decoration-color: #00af00\">110</span>)            │       <span style=\"color: #00af00; text-decoration-color: #00af00\">140,910</span> │\n",
       "└─────────────────────────────────┴────────────────────────┴───────────────┘\n",
       "</pre>\n"
      ],
      "text/plain": [
       "┏━━━━━━━━━━━━━━━━━━━━━━━━━━━━━━━━━┳━━━━━━━━━━━━━━━━━━━━━━━━┳━━━━━━━━━━━━━━━┓\n",
       "┃\u001b[1m \u001b[0m\u001b[1mLayer (type)                   \u001b[0m\u001b[1m \u001b[0m┃\u001b[1m \u001b[0m\u001b[1mOutput Shape          \u001b[0m\u001b[1m \u001b[0m┃\u001b[1m \u001b[0m\u001b[1m      Param #\u001b[0m\u001b[1m \u001b[0m┃\n",
       "┡━━━━━━━━━━━━━━━━━━━━━━━━━━━━━━━━━╇━━━━━━━━━━━━━━━━━━━━━━━━╇━━━━━━━━━━━━━━━┩\n",
       "│ input_layer_1 (\u001b[38;5;33mInputLayer\u001b[0m)      │ (\u001b[38;5;45mNone\u001b[0m, \u001b[38;5;34m224\u001b[0m, \u001b[38;5;34m224\u001b[0m, \u001b[38;5;34m3\u001b[0m)    │             \u001b[38;5;34m0\u001b[0m │\n",
       "├─────────────────────────────────┼────────────────────────┼───────────────┤\n",
       "│ efficientnetv2-b0 (\u001b[38;5;33mFunctional\u001b[0m)  │ (\u001b[38;5;45mNone\u001b[0m, \u001b[38;5;34m7\u001b[0m, \u001b[38;5;34m7\u001b[0m, \u001b[38;5;34m1280\u001b[0m)     │     \u001b[38;5;34m5,919,312\u001b[0m │\n",
       "├─────────────────────────────────┼────────────────────────┼───────────────┤\n",
       "│ global_average_pooling2d        │ (\u001b[38;5;45mNone\u001b[0m, \u001b[38;5;34m1280\u001b[0m)           │             \u001b[38;5;34m0\u001b[0m │\n",
       "│ (\u001b[38;5;33mGlobalAveragePooling2D\u001b[0m)        │                        │               │\n",
       "├─────────────────────────────────┼────────────────────────┼───────────────┤\n",
       "│ dropout (\u001b[38;5;33mDropout\u001b[0m)               │ (\u001b[38;5;45mNone\u001b[0m, \u001b[38;5;34m1280\u001b[0m)           │             \u001b[38;5;34m0\u001b[0m │\n",
       "├─────────────────────────────────┼────────────────────────┼───────────────┤\n",
       "│ dense (\u001b[38;5;33mDense\u001b[0m)                   │ (\u001b[38;5;45mNone\u001b[0m, \u001b[38;5;34m110\u001b[0m)            │       \u001b[38;5;34m140,910\u001b[0m │\n",
       "└─────────────────────────────────┴────────────────────────┴───────────────┘\n"
      ]
     },
     "metadata": {},
     "output_type": "display_data"
    },
    {
     "data": {
      "text/html": [
       "<pre style=\"white-space:pre;overflow-x:auto;line-height:normal;font-family:Menlo,'DejaVu Sans Mono',consolas,'Courier New',monospace\"><span style=\"font-weight: bold\"> Total params: </span><span style=\"color: #00af00; text-decoration-color: #00af00\">8,669,788</span> (33.07 MB)\n",
       "</pre>\n"
      ],
      "text/plain": [
       "\u001b[1m Total params: \u001b[0m\u001b[38;5;34m8,669,788\u001b[0m (33.07 MB)\n"
      ]
     },
     "metadata": {},
     "output_type": "display_data"
    },
    {
     "data": {
      "text/html": [
       "<pre style=\"white-space:pre;overflow-x:auto;line-height:normal;font-family:Menlo,'DejaVu Sans Mono',consolas,'Courier New',monospace\"><span style=\"font-weight: bold\"> Trainable params: </span><span style=\"color: #00af00; text-decoration-color: #00af00\">1,304,782</span> (4.98 MB)\n",
       "</pre>\n"
      ],
      "text/plain": [
       "\u001b[1m Trainable params: \u001b[0m\u001b[38;5;34m1,304,782\u001b[0m (4.98 MB)\n"
      ]
     },
     "metadata": {},
     "output_type": "display_data"
    },
    {
     "data": {
      "text/html": [
       "<pre style=\"white-space:pre;overflow-x:auto;line-height:normal;font-family:Menlo,'DejaVu Sans Mono',consolas,'Courier New',monospace\"><span style=\"font-weight: bold\"> Non-trainable params: </span><span style=\"color: #00af00; text-decoration-color: #00af00\">4,755,440</span> (18.14 MB)\n",
       "</pre>\n"
      ],
      "text/plain": [
       "\u001b[1m Non-trainable params: \u001b[0m\u001b[38;5;34m4,755,440\u001b[0m (18.14 MB)\n"
      ]
     },
     "metadata": {},
     "output_type": "display_data"
    },
    {
     "data": {
      "text/html": [
       "<pre style=\"white-space:pre;overflow-x:auto;line-height:normal;font-family:Menlo,'DejaVu Sans Mono',consolas,'Courier New',monospace\"><span style=\"font-weight: bold\"> Optimizer params: </span><span style=\"color: #00af00; text-decoration-color: #00af00\">2,609,566</span> (9.95 MB)\n",
       "</pre>\n"
      ],
      "text/plain": [
       "\u001b[1m Optimizer params: \u001b[0m\u001b[38;5;34m2,609,566\u001b[0m (9.95 MB)\n"
      ]
     },
     "metadata": {},
     "output_type": "display_data"
    }
   ],
   "source": [
    "import tensorflow as tf\n",
    "\n",
    "# The path to your saved model file\n",
    "MODEL_PATH = \"food_classifier_final_model.keras\"\n",
    "\n",
    "print(f\"Attempting to load model from: {MODEL_PATH}\")\n",
    "\n",
    "try:\n",
    "    # Load the model from the file\n",
    "    loaded_model = tf.keras.models.load_model(MODEL_PATH)\n",
    "    \n",
    "    # If loading is successful, print the model's summary\n",
    "    print(\"\\n✅ Model loaded successfully! The file is not corrupted.\")\n",
    "    print(\"Here is the model summary:\")\n",
    "    loaded_model.summary()\n",
    "    \n",
    "except Exception as e:\n",
    "    # If an error occurs, the file is likely corrupted or saved incorrectly\n",
    "    print(f\"\\n❌ Error loading the model: {e}\")"
   ]
  }
 ],
 "metadata": {
  "kernelspec": {
   "display_name": "Python 3",
   "language": "python",
   "name": "python3"
  },
  "language_info": {
   "codemirror_mode": {
    "name": "ipython",
    "version": 3
   },
   "file_extension": ".py",
   "mimetype": "text/x-python",
   "name": "python",
   "nbconvert_exporter": "python",
   "pygments_lexer": "ipython3",
   "version": "3.12.9"
  }
 },
 "nbformat": 4,
 "nbformat_minor": 5
}
